{
 "cells": [
  {
   "cell_type": "code",
   "execution_count": 61,
   "metadata": {},
   "outputs": [],
   "source": [
    "import pandas as pd\n",
    "import requests\n",
    "from bs4 import BeautifulSoup"
   ]
  },
  {
   "cell_type": "code",
   "execution_count": 62,
   "metadata": {},
   "outputs": [],
   "source": [
    "url='https://en.wikipedia.org/wiki/List_of_cities_in_Pakistan_by_population'"
   ]
  },
  {
   "cell_type": "code",
   "execution_count": 63,
   "metadata": {},
   "outputs": [],
   "source": [
    "city_page=requests.get(url).text"
   ]
  },
  {
   "cell_type": "code",
   "execution_count": 65,
   "metadata": {},
   "outputs": [],
   "source": [
    "soup=BeautifulSoup(city_page, 'lxml')"
   ]
  },
  {
   "cell_type": "code",
   "execution_count": 68,
   "metadata": {},
   "outputs": [
    {
     "data": {
      "text/plain": [
       "'List of cities in Pakistan by population - Wikipedia'"
      ]
     },
     "execution_count": 68,
     "metadata": {},
     "output_type": "execute_result"
    }
   ],
   "source": [
    "soup.title.text"
   ]
  },
  {
   "cell_type": "code",
   "execution_count": 69,
   "metadata": {},
   "outputs": [],
   "source": [
    "city_page_table=soup.find(\"table\", attrs={\"class\", \"sortable wikitable\"})"
   ]
  },
  {
   "cell_type": "code",
   "execution_count": 71,
   "metadata": {},
   "outputs": [],
   "source": [
    "city_table_tr=city_page_table.find_all('tr')"
   ]
  },
  {
   "cell_type": "code",
   "execution_count": 102,
   "metadata": {},
   "outputs": [],
   "source": [
    "city_table_td=city_table_tr[2].find_all('td')"
   ]
  },
  {
   "cell_type": "code",
   "execution_count": 103,
   "metadata": {},
   "outputs": [
    {
     "data": {
      "text/plain": [
       "'Lahore'"
      ]
     },
     "execution_count": 103,
     "metadata": {},
     "output_type": "execute_result"
    }
   ],
   "source": [
    "city_table_td[1].text"
   ]
  },
  {
   "cell_type": "code",
   "execution_count": 91,
   "metadata": {},
   "outputs": [],
   "source": [
    "pakistani_cities_dataframe=pd.DataFrame()"
   ]
  },
  {
   "cell_type": "code",
   "execution_count": 92,
   "metadata": {},
   "outputs": [
    {
     "data": {
      "text/html": [
       "<div>\n",
       "<style scoped>\n",
       "    .dataframe tbody tr th:only-of-type {\n",
       "        vertical-align: middle;\n",
       "    }\n",
       "\n",
       "    .dataframe tbody tr th {\n",
       "        vertical-align: top;\n",
       "    }\n",
       "\n",
       "    .dataframe thead th {\n",
       "        text-align: right;\n",
       "    }\n",
       "</style>\n",
       "<table border=\"1\" class=\"dataframe\">\n",
       "  <thead>\n",
       "    <tr style=\"text-align: right;\">\n",
       "      <th></th>\n",
       "    </tr>\n",
       "  </thead>\n",
       "  <tbody>\n",
       "  </tbody>\n",
       "</table>\n",
       "</div>"
      ],
      "text/plain": [
       "Empty DataFrame\n",
       "Columns: []\n",
       "Index: []"
      ]
     },
     "execution_count": 92,
     "metadata": {},
     "output_type": "execute_result"
    }
   ],
   "source": [
    "pakistani_cities_dataframe"
   ]
  },
  {
   "cell_type": "code",
   "execution_count": 96,
   "metadata": {},
   "outputs": [],
   "source": [
    "for i in range(1,len(city_table_tr)):\n",
    "    city_table_td=city_table_tr[i].find_all('td')\n",
    "    \n",
    "    city_name=city_table_td[1].get_text().strip()\n",
    "    population_2017=city_table_td[2].get_text().strip()\n",
    "    population_1998=city_table_td[3].get_text().strip()\n",
    "    change_in_population=city_table_td[4].get_text().strip()\n",
    "    province=city_table_td[5].get_text().strip()\n",
    "    \n",
    "    pakistani_cities_dataframe=pakistani_cities_dataframe.append({'City Name ': city_name,\n",
    "                                                                 'Population-2017':population_2017,\n",
    "                                                                 'Population-1998':population_1998,\n",
    "                                                                 'change-in-population':change_in_population,\n",
    "                                                                 'province':province}, ignore_index=True)\n",
    "    "
   ]
  },
  {
   "cell_type": "code",
   "execution_count": 97,
   "metadata": {},
   "outputs": [
    {
     "data": {
      "text/html": [
       "<div>\n",
       "<style scoped>\n",
       "    .dataframe tbody tr th:only-of-type {\n",
       "        vertical-align: middle;\n",
       "    }\n",
       "\n",
       "    .dataframe tbody tr th {\n",
       "        vertical-align: top;\n",
       "    }\n",
       "\n",
       "    .dataframe thead th {\n",
       "        text-align: right;\n",
       "    }\n",
       "</style>\n",
       "<table border=\"1\" class=\"dataframe\">\n",
       "  <thead>\n",
       "    <tr style=\"text-align: right;\">\n",
       "      <th></th>\n",
       "      <th>City Name</th>\n",
       "      <th>Population-1998</th>\n",
       "      <th>Population-2017</th>\n",
       "      <th>change-in-population</th>\n",
       "      <th>province</th>\n",
       "    </tr>\n",
       "  </thead>\n",
       "  <tbody>\n",
       "    <tr>\n",
       "      <td>0</td>\n",
       "      <td>Karachi</td>\n",
       "      <td>9,339,023</td>\n",
       "      <td>14,916,456</td>\n",
       "      <td>+59.72%</td>\n",
       "      <td>Sindh</td>\n",
       "    </tr>\n",
       "    <tr>\n",
       "      <td>1</td>\n",
       "      <td>Lahore</td>\n",
       "      <td>5,209,088</td>\n",
       "      <td>11,126,285</td>\n",
       "      <td>+113.59%</td>\n",
       "      <td>Punjab</td>\n",
       "    </tr>\n",
       "    <tr>\n",
       "      <td>2</td>\n",
       "      <td>Faisalabad</td>\n",
       "      <td>2,008,861</td>\n",
       "      <td>3,204,726</td>\n",
       "      <td>+59.53%</td>\n",
       "      <td>Punjab</td>\n",
       "    </tr>\n",
       "    <tr>\n",
       "      <td>3</td>\n",
       "      <td>Rawalpindi</td>\n",
       "      <td>1,409,768</td>\n",
       "      <td>2,098,231</td>\n",
       "      <td>+48.84%</td>\n",
       "      <td>Punjab</td>\n",
       "    </tr>\n",
       "    <tr>\n",
       "      <td>4</td>\n",
       "      <td>Gujranwala</td>\n",
       "      <td>1,132,509</td>\n",
       "      <td>2,027,001</td>\n",
       "      <td>+78.98%</td>\n",
       "      <td>Punjab</td>\n",
       "    </tr>\n",
       "    <tr>\n",
       "      <td>...</td>\n",
       "      <td>...</td>\n",
       "      <td>...</td>\n",
       "      <td>...</td>\n",
       "      <td>...</td>\n",
       "      <td>...</td>\n",
       "    </tr>\n",
       "    <tr>\n",
       "      <td>193</td>\n",
       "      <td>Tando Muhammad Khan</td>\n",
       "      <td>65,396</td>\n",
       "      <td>101,863</td>\n",
       "      <td>+55.76%</td>\n",
       "      <td>Sindh</td>\n",
       "    </tr>\n",
       "    <tr>\n",
       "      <td>194</td>\n",
       "      <td>Kamber Ali Khan</td>\n",
       "      <td>58,369</td>\n",
       "      <td>101,474</td>\n",
       "      <td>+73.85%</td>\n",
       "      <td>Sindh</td>\n",
       "    </tr>\n",
       "    <tr>\n",
       "      <td>195</td>\n",
       "      <td>Mirpur Mathelo</td>\n",
       "      <td>42,421</td>\n",
       "      <td>100,760</td>\n",
       "      <td>+137.52%</td>\n",
       "      <td>Sindh</td>\n",
       "    </tr>\n",
       "    <tr>\n",
       "      <td>196</td>\n",
       "      <td>Kandhkot</td>\n",
       "      <td>67,566</td>\n",
       "      <td>100,698</td>\n",
       "      <td>+49.04%</td>\n",
       "      <td>Sindh</td>\n",
       "    </tr>\n",
       "    <tr>\n",
       "      <td>197</td>\n",
       "      <td>Bhalwal</td>\n",
       "      <td>61,523</td>\n",
       "      <td>100,135</td>\n",
       "      <td>+62.76%</td>\n",
       "      <td>Punjab</td>\n",
       "    </tr>\n",
       "  </tbody>\n",
       "</table>\n",
       "<p>198 rows × 5 columns</p>\n",
       "</div>"
      ],
      "text/plain": [
       "              City Name  Population-1998 Population-2017 change-in-population  \\\n",
       "0                Karachi       9,339,023      14,916,456              +59.72%   \n",
       "1                 Lahore       5,209,088      11,126,285             +113.59%   \n",
       "2             Faisalabad       2,008,861       3,204,726              +59.53%   \n",
       "3             Rawalpindi       1,409,768       2,098,231              +48.84%   \n",
       "4             Gujranwala       1,132,509       2,027,001              +78.98%   \n",
       "..                   ...             ...             ...                  ...   \n",
       "193  Tando Muhammad Khan          65,396         101,863              +55.76%   \n",
       "194      Kamber Ali Khan          58,369         101,474              +73.85%   \n",
       "195       Mirpur Mathelo          42,421         100,760             +137.52%   \n",
       "196             Kandhkot          67,566         100,698              +49.04%   \n",
       "197              Bhalwal          61,523         100,135              +62.76%   \n",
       "\n",
       "    province  \n",
       "0      Sindh  \n",
       "1     Punjab  \n",
       "2     Punjab  \n",
       "3     Punjab  \n",
       "4     Punjab  \n",
       "..       ...  \n",
       "193    Sindh  \n",
       "194    Sindh  \n",
       "195    Sindh  \n",
       "196    Sindh  \n",
       "197   Punjab  \n",
       "\n",
       "[198 rows x 5 columns]"
      ]
     },
     "execution_count": 97,
     "metadata": {},
     "output_type": "execute_result"
    }
   ],
   "source": [
    "pakistani_cities_dataframe"
   ]
  },
  {
   "cell_type": "code",
   "execution_count": 98,
   "metadata": {},
   "outputs": [],
   "source": [
    "pakistani_cities_dataframe.to_csv('Pakistani Cities.csv')"
   ]
  },
  {
   "cell_type": "code",
   "execution_count": null,
   "metadata": {},
   "outputs": [],
   "source": []
  }
 ],
 "metadata": {
  "kernelspec": {
   "display_name": "Python 3",
   "language": "python",
   "name": "python3"
  },
  "language_info": {
   "codemirror_mode": {
    "name": "ipython",
    "version": 3
   },
   "file_extension": ".py",
   "mimetype": "text/x-python",
   "name": "python",
   "nbconvert_exporter": "python",
   "pygments_lexer": "ipython3",
   "version": "3.7.4"
  }
 },
 "nbformat": 4,
 "nbformat_minor": 2
}
